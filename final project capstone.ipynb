{
 "cells": [
  {
   "cell_type": "markdown",
   "metadata": {},
   "source": [
    "# Introduction"
   ]
  },
  {
   "cell_type": "markdown",
   "metadata": {},
   "source": [
    "### Paris is a gignantic city with thousands of years of history,poets artists,playwrights, writers, journalists, and more have al written about their love of this city and it is hard to not fall in love with Peris.As we all know Paris is one of the most visitedplace in the earth.so selecting a good place for playing football is agreat challange."
   ]
  },
  {
   "cell_type": "markdown",
   "metadata": {},
   "source": [
    "# further documentation regarding this project in the report and presentation section with word and ppt formet respectively."
   ]
  },
  {
   "cell_type": "code",
   "execution_count": 1,
   "metadata": {},
   "outputs": [
    {
     "name": "stdout",
     "output_type": "stream",
     "text": [
      "Solving environment: done\n",
      "\n",
      "## Package Plan ##\n",
      "\n",
      "  environment location: /opt/conda/envs/Python36\n",
      "\n",
      "  added / updated specs: \n",
      "    - folium=0.5.0\n",
      "\n",
      "\n",
      "The following packages will be downloaded:\n",
      "\n",
      "    package                    |            build\n",
      "    ---------------------------|-----------------\n",
      "    openssl-1.1.1c             |       h516909a_0         2.1 MB  conda-forge\n",
      "    vincent-0.4.4              |             py_1          28 KB  conda-forge\n",
      "    ca-certificates-2019.9.11  |       hecc5488_0         144 KB  conda-forge\n",
      "    folium-0.5.0               |             py_0          45 KB  conda-forge\n",
      "    certifi-2019.9.11          |           py36_0         147 KB  conda-forge\n",
      "    altair-3.2.0               |           py36_0         770 KB  conda-forge\n",
      "    branca-0.3.1               |             py_0          25 KB  conda-forge\n",
      "    ------------------------------------------------------------\n",
      "                                           Total:         3.3 MB\n",
      "\n",
      "The following NEW packages will be INSTALLED:\n",
      "\n",
      "    altair:          3.2.0-py36_0      conda-forge\n",
      "    branca:          0.3.1-py_0        conda-forge\n",
      "    folium:          0.5.0-py_0        conda-forge\n",
      "    vincent:         0.4.4-py_1        conda-forge\n",
      "\n",
      "The following packages will be UPDATED:\n",
      "\n",
      "    ca-certificates: 2019.8.28-0                   --> 2019.9.11-hecc5488_0 conda-forge\n",
      "    certifi:         2019.9.11-py36_0              --> 2019.9.11-py36_0     conda-forge\n",
      "\n",
      "The following packages will be DOWNGRADED:\n",
      "\n",
      "    openssl:         1.1.1d-h7b6447c_2             --> 1.1.1c-h516909a_0    conda-forge\n",
      "\n",
      "\n",
      "Downloading and Extracting Packages\n",
      "openssl-1.1.1c       | 2.1 MB    | ##################################### | 100% \n",
      "vincent-0.4.4        | 28 KB     | ##################################### | 100% \n",
      "ca-certificates-2019 | 144 KB    | ##################################### | 100% \n",
      "folium-0.5.0         | 45 KB     | ##################################### | 100% \n",
      "certifi-2019.9.11    | 147 KB    | ##################################### | 100% \n",
      "altair-3.2.0         | 770 KB    | ##################################### | 100% \n",
      "branca-0.3.1         | 25 KB     | ##################################### | 100% \n",
      "Preparing transaction: done\n",
      "Verifying transaction: done\n",
      "Executing transaction: done\n",
      "Libraries imported.\n",
      "The geograpical coordinate of Gangnam are 37.4979002, 127.0276077.\n"
     ]
    },
    {
     "name": "stderr",
     "output_type": "stream",
     "text": [
      "/opt/conda/envs/Python36/lib/python3.6/site-packages/ipykernel/__main__.py:18: DeprecationWarning: Using Nominatim with the default \"geopy/1.18.1\" `user_agent` is strongly discouraged, as it violates Nominatim's ToS https://operations.osmfoundation.org/policies/nominatim/ and may possibly cause 403 and 429 HTTP errors. Please specify a custom `user_agent` with `Nominatim(user_agent=\"my-application\")` or by overriding the default `user_agent`: `geopy.geocoders.options.default_user_agent = \"my-application\"`. In geopy 2.0 this will become an exception.\n",
      "/opt/conda/envs/Python36/lib/python3.6/site-packages/ipykernel/__main__.py:25: DeprecationWarning: Using Nominatim with the default \"geopy/1.18.1\" `user_agent` is strongly discouraged, as it violates Nominatim's ToS https://operations.osmfoundation.org/policies/nominatim/ and may possibly cause 403 and 429 HTTP errors. Please specify a custom `user_agent` with `Nominatim(user_agent=\"my-application\")` or by overriding the default `user_agent`: `geopy.geocoders.options.default_user_agent = \"my-application\"`. In geopy 2.0 this will become an exception.\n"
     ]
    },
    {
     "name": "stdout",
     "output_type": "stream",
     "text": [
      "The geograpical coordinate of San Pedro home are 33.7358518, -118.2922934.\n"
     ]
    },
    {
     "name": "stderr",
     "output_type": "stream",
     "text": [
      "/opt/conda/envs/Python36/lib/python3.6/site-packages/ipykernel/__main__.py:32: DeprecationWarning: Using Nominatim with the default \"geopy/1.18.1\" `user_agent` is strongly discouraged, as it violates Nominatim's ToS https://operations.osmfoundation.org/policies/nominatim/ and may possibly cause 403 and 429 HTTP errors. Please specify a custom `user_agent` with `Nominatim(user_agent=\"my-application\")` or by overriding the default `user_agent`: `geopy.geocoders.options.default_user_agent = \"my-application\"`. In geopy 2.0 this will become an exception.\n"
     ]
    },
    {
     "name": "stdout",
     "output_type": "stream",
     "text": [
      "The geograpical coordinate of Scarbourgh home are 43.773077, -79.257774.\n",
      "The geograpical coordinate of Avery Ranch home are 30.5105061, -97.7486707.\n"
     ]
    },
    {
     "name": "stderr",
     "output_type": "stream",
     "text": [
      "/opt/conda/envs/Python36/lib/python3.6/site-packages/ipykernel/__main__.py:39: DeprecationWarning: Using Nominatim with the default \"geopy/1.18.1\" `user_agent` is strongly discouraged, as it violates Nominatim's ToS https://operations.osmfoundation.org/policies/nominatim/ and may possibly cause 403 and 429 HTTP errors. Please specify a custom `user_agent` with `Nominatim(user_agent=\"my-application\")` or by overriding the default `user_agent`: `geopy.geocoders.options.default_user_agent = \"my-application\"`. In geopy 2.0 this will become an exception.\n"
     ]
    }
   ],
   "source": [
    "import numpy as np # library to handle data in a vectorized manner\n",
    "import time\n",
    "import pandas as pd # library for data analsysis\n",
    "pd.set_option('display.max_columns', None)\n",
    "pd.set_option('display.max_rows', None)\n",
    "\n",
    "import json # library to handle JSON files\n",
    "import requests # library to handle requests\n",
    "from pandas.io.json import json_normalize # tranform JSON file into a pandas dataframe\n",
    "\n",
    "from geopy.geocoders import Nominatim # convert an address into latitude and longitude values\n",
    "!conda install -c conda-forge folium=0.5.0 --yes # uncomment this line if you haven't completed the Foursquare API lab\n",
    "import folium # map rendering library\n",
    "\n",
    "print('Libraries imported.')\n",
    "# Shenton Way, District 01, Singapore\n",
    "address = 'Gangnam, Korea'\n",
    "geolocator = Nominatim()\n",
    "location = geolocator.geocode(address)\n",
    "latitude = location.latitude\n",
    "longitude = location.longitude\n",
    "print('The geograpical coordinate of Gangnam are {}, {}.'.format(latitude, longitude))\n",
    "\n",
    "address2 = 'San Pedro, Los Angeles'\n",
    "geolocator2 = Nominatim()\n",
    "location2 = geolocator2.geocode(address2)\n",
    "latitude2 = location2.latitude\n",
    "longitude2 = location2.longitude\n",
    "print('The geograpical coordinate of San Pedro home are {}, {}.'.format(latitude2, longitude2))\n",
    "\n",
    "address3 = 'Scarborough, Toronto'\n",
    "geolocator3 = Nominatim()\n",
    "location3 = geolocator3.geocode(address3)\n",
    "latitude3 = location3.latitude\n",
    "longitude3 = location3.longitude\n",
    "print('The geograpical coordinate of Scarbourgh home are {}, {}.'.format(latitude3, longitude3))\n",
    "\n",
    "address4 = 'Avery Ranch, Austin'\n",
    "geolocator4 = Nominatim()\n",
    "location4 = geolocator4.geocode(address4)\n",
    "latitude4 = location4.latitude\n",
    "longitude4 = location4.longitude\n",
    "print('The geograpical coordinate of Avery Ranch home are {}, {}.'.format(latitude4, longitude4))"
   ]
  },
  {
   "cell_type": "code",
   "execution_count": 2,
   "metadata": {},
   "outputs": [],
   "source": [
    "neighborhood_latitude=37.4979\n",
    "neighborhood_longitude=127.03"
   ]
  },
  {
   "cell_type": "code",
   "execution_count": 3,
   "metadata": {},
   "outputs": [
    {
     "name": "stdout",
     "output_type": "stream",
     "text": [
      "Your credentails:\n",
      "CLIENT_ID: 5U4GIAWTHEMVRX52T3340F5TFAOVVLZJHJI14ZDMLH1GZMFO\n",
      "CLIENT_SECRET:GFZQCY52JYDZWV4ZMVDXZPM2JVV0XOUX3OTXKYOZCOEY5YC3\n"
     ]
    }
   ],
   "source": [
    "CLIENT_ID = '5U4GIAWTHEMVRX52T3340F5TFAOVVLZJHJI14ZDMLH1GZMFO' # your Foursquare ID\n",
    "CLIENT_SECRET = 'GFZQCY52JYDZWV4ZMVDXZPM2JVV0XOUX3OTXKYOZCOEY5YC3' # your Foursquare Secret\n",
    "VERSION = '20180605' # Foursquare API version\n",
    "\n",
    "print('Your credentails:')\n",
    "print('CLIENT_ID: ' + CLIENT_ID)\n",
    "print('CLIENT_SECRET:' + CLIENT_SECRET)"
   ]
  },
  {
   "cell_type": "code",
   "execution_count": 4,
   "metadata": {},
   "outputs": [
    {
     "data": {
      "text/plain": [
       "'https://api.foursquare.com/v2/venues/explore?&client_id=5U4GIAWTHEMVRX52T3340F5TFAOVVLZJHJI14ZDMLH1GZMFO&client_secret=GFZQCY52JYDZWV4ZMVDXZPM2JVV0XOUX3OTXKYOZCOEY5YC3&v=20180605&ll=30.5105061,-97.7486707&radius=500&limit=100'"
      ]
     },
     "execution_count": 4,
     "metadata": {},
     "output_type": "execute_result"
    }
   ],
   "source": [
    "# type your answer here\n",
    "LIMIT = 100 # limit of number of venues returned by Foursquare API\n",
    "\n",
    "radius = 500 # define radius\n",
    " # create URL\n",
    "url_gn = 'https://api.foursquare.com/v2/venues/explore?&client_id={}&client_secret={}&v={}&ll={},{}&radius={}&limit={}'.format(\n",
    "    CLIENT_ID, \n",
    "    CLIENT_SECRET, \n",
    "    VERSION, \n",
    "    neighborhood_latitude, \n",
    "    neighborhood_longitude, \n",
    "    radius, \n",
    "    LIMIT)\n",
    "url_sp = 'https://api.foursquare.com/v2/venues/explore?&client_id={}&client_secret={}&v={}&ll={},{}&radius={}&limit={}'.format(\n",
    "    CLIENT_ID, \n",
    "    CLIENT_SECRET, \n",
    "    VERSION, \n",
    "    latitude2, \n",
    "    longitude2, \n",
    "    radius, \n",
    "    LIMIT)\n",
    "url_sb = 'https://api.foursquare.com/v2/venues/explore?&client_id={}&client_secret={}&v={}&ll={},{}&radius={}&limit={}'.format(\n",
    "    CLIENT_ID, \n",
    "    CLIENT_SECRET, \n",
    "    VERSION, \n",
    "    latitude3, \n",
    "    longitude3, \n",
    "    radius, \n",
    "    LIMIT)\n",
    "url_av = 'https://api.foursquare.com/v2/venues/explore?&client_id={}&client_secret={}&v={}&ll={},{}&radius={}&limit={}'.format(\n",
    "    CLIENT_ID, \n",
    "    CLIENT_SECRET, \n",
    "    VERSION, \n",
    "    latitude4, \n",
    "    longitude4, \n",
    "    radius, \n",
    "    LIMIT)\n",
    "#url_gn # display URL\n",
    "url_av # display URL"
   ]
  },
  {
   "cell_type": "code",
   "execution_count": 5,
   "metadata": {},
   "outputs": [],
   "source": [
    "results_gn = requests.get(url_gn).json()\n",
    "results_sp = requests.get(url_sp).json()\n",
    "results_sb = requests.get(url_sb).json()\n",
    "results_av = requests.get(url_av).json()\n",
    "#results_gn"
   ]
  },
  {
   "cell_type": "code",
   "execution_count": 6,
   "metadata": {},
   "outputs": [],
   "source": [
    "# function that extracts the category of the venue\n",
    "def get_category_type(row):\n",
    "    try:\n",
    "        categories_list = row['categories']\n",
    "    except:\n",
    "        categories_list = row['venue.categories']\n",
    "        \n",
    "    if len(categories_list) == 0:\n",
    "        return None\n",
    "    else:\n",
    "        return categories_list[0]['name']"
   ]
  },
  {
   "cell_type": "code",
   "execution_count": 10,
   "metadata": {},
   "outputs": [
    {
     "data": {
      "text/html": [
       "<div>\n",
       "<style scoped>\n",
       "    .dataframe tbody tr th:only-of-type {\n",
       "        vertical-align: middle;\n",
       "    }\n",
       "\n",
       "    .dataframe tbody tr th {\n",
       "        vertical-align: top;\n",
       "    }\n",
       "\n",
       "    .dataframe thead th {\n",
       "        text-align: right;\n",
       "    }\n",
       "</style>\n",
       "<table border=\"1\" class=\"dataframe\">\n",
       "  <thead>\n",
       "    <tr style=\"text-align: right;\">\n",
       "      <th></th>\n",
       "      <th>name</th>\n",
       "      <th>categories</th>\n",
       "      <th>lat</th>\n",
       "      <th>lng</th>\n",
       "    </tr>\n",
       "  </thead>\n",
       "  <tbody>\n",
       "    <tr>\n",
       "      <th>0</th>\n",
       "      <td>Waters Edge Pool: Avery Ranch</td>\n",
       "      <td>Pool</td>\n",
       "      <td>30.510328</td>\n",
       "      <td>-97.748672</td>\n",
       "    </tr>\n",
       "  </tbody>\n",
       "</table>\n",
       "</div>"
      ],
      "text/plain": [
       "                            name categories        lat        lng\n",
       "0  Waters Edge Pool: Avery Ranch       Pool  30.510328 -97.748672"
      ]
     },
     "execution_count": 10,
     "metadata": {},
     "output_type": "execute_result"
    }
   ],
   "source": [
    "# Nearby Venues for Gangnam\n",
    "venues_gn = results_gn['response']['groups'][0]['items']\n",
    "nearby_venues_gn = json_normalize(venues_gn) # flatten JSON\n",
    "# filter columns\n",
    "filtered_columns_gn = ['venue.name', 'venue.categories', 'venue.location.lat', 'venue.location.lng']\n",
    "nearby_venues_gn =nearby_venues_gn.loc[:, filtered_columns_gn]\n",
    "# filter the category for each row\n",
    "nearby_venues_gn['venue.categories'] = nearby_venues_gn.apply(get_category_type, axis=1)\n",
    "# clean columns\n",
    "nearby_venues_gn.columns = [col.split(\".\")[-1] for col in nearby_venues_gn.columns]\n",
    "\n",
    "# Nearby Venues for San Pedro\n",
    "venues_sp = results_sp['response']['groups'][0]['items']\n",
    "nearby_venues_sp = json_normalize(venues_sp) # flatten JSON\n",
    "# filter columns\n",
    "filtered_columns_sp = ['venue.name', 'venue.categories', 'venue.location.lat', 'venue.location.lng']\n",
    "nearby_venues_sp =nearby_venues_sp.loc[:, filtered_columns_gn]\n",
    "# filter the category for each row\n",
    "nearby_venues_sp['venue.categories'] = nearby_venues_sp.apply(get_category_type, axis=1)\n",
    "# clean columns\n",
    "nearby_venues_sp.columns = [col.split(\".\")[-1] for col in nearby_venues_sp.columns]\n",
    "\n",
    "# Nearby Venues for Scarbourgh\n",
    "venues_sb = results_sb['response']['groups'][0]['items']\n",
    "nearby_venues_sb = json_normalize(venues_sb) # flatten JSON\n",
    "# filter columns\n",
    "filtered_columns_sb = ['venue.name', 'venue.categories', 'venue.location.lat', 'venue.location.lng']\n",
    "nearby_venues_sb =nearby_venues_sb.loc[:, filtered_columns_gn]\n",
    "# filter the category for each row\n",
    "nearby_venues_sb['venue.categories'] = nearby_venues_sb.apply(get_category_type, axis=1)\n",
    "# clean columns\n",
    "nearby_venues_sb.columns = [col.split(\".\")[-1] for col in nearby_venues_sb.columns]\n",
    "#nearby_venues_gn.head(10)\n",
    "\n",
    "# Nearby Venues for Avery Ranch\n",
    "venues_av = results_av['response']['groups'][0]['items']\n",
    "nearby_venues_av = json_normalize(venues_av) # flatten JSON\n",
    "# filter columns\n",
    "filtered_columns_av = ['venue.name', 'venue.categories', 'venue.location.lat', 'venue.location.lng']\n",
    "nearby_venues_av =nearby_venues_av.loc[:, filtered_columns_gn]\n",
    "# filter the category for each row\n",
    "nearby_venues_av['venue.categories'] = nearby_venues_av.apply(get_category_type, axis=1)\n",
    "# clean columns\n",
    "nearby_venues_av.columns = [col.split(\".\")[-1] for col in nearby_venues_av.columns]\n",
    "nearby_venues_av.head(10)"
   ]
  },
  {
   "cell_type": "code",
   "execution_count": 11,
   "metadata": {},
   "outputs": [
    {
     "name": "stdout",
     "output_type": "stream",
     "text": [
      "1 venues were returned by Foursquare.\n"
     ]
    }
   ],
   "source": [
    "print('{} venues were returned by Foursquare.'.format(nearby_venues_av.shape[0]))"
   ]
  },
  {
   "cell_type": "code",
   "execution_count": 12,
   "metadata": {},
   "outputs": [
    {
     "data": {
      "text/html": [
       "<div style=\"width:100%;\"><div style=\"position:relative;width:100%;height:0;padding-bottom:60%;\"><iframe src=\"data:text/html;charset=utf-8;base64,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\" style=\"position:absolute;width:100%;height:100%;left:0;top:0;border:none !important;\" allowfullscreen webkitallowfullscreen mozallowfullscreen></iframe></div></div>"
      ],
      "text/plain": [
       "<folium.folium.Map at 0x7ff7a28d1c18>"
      ]
     },
     "execution_count": 12,
     "metadata": {},
     "output_type": "execute_result"
    }
   ],
   "source": [
    "# create map of Each neighbour latitude and longitude values\n",
    "map_gangnam = folium.Map(location=[latitude, longitude], zoom_start=20)\n",
    "map_sanpedro = folium.Map(location=[latitude2, longitude2], zoom_start=20)\n",
    "map_scarbro = folium.Map(location=[latitude3, longitude3], zoom_start=20)\n",
    "map_averyran = folium.Map(location=[latitude4, longitude4], zoom_start=20)\n",
    "map_averyran # view my current Neighbour - Avery Ranch Austin"
   ]
  },
  {
   "cell_type": "code",
   "execution_count": 13,
   "metadata": {},
   "outputs": [
    {
     "data": {
      "text/html": [
       "<div>\n",
       "<style scoped>\n",
       "    .dataframe tbody tr th:only-of-type {\n",
       "        vertical-align: middle;\n",
       "    }\n",
       "\n",
       "    .dataframe tbody tr th {\n",
       "        vertical-align: top;\n",
       "    }\n",
       "\n",
       "    .dataframe thead th {\n",
       "        text-align: right;\n",
       "    }\n",
       "</style>\n",
       "<table border=\"1\" class=\"dataframe\">\n",
       "  <thead>\n",
       "    <tr style=\"text-align: right;\">\n",
       "      <th></th>\n",
       "      <th>name</th>\n",
       "      <th>categories</th>\n",
       "      <th>lat</th>\n",
       "      <th>lng</th>\n",
       "    </tr>\n",
       "  </thead>\n",
       "  <tbody>\n",
       "    <tr>\n",
       "      <th>5</th>\n",
       "      <td>단풍나무집</td>\n",
       "      <td>Korean Restaurant</td>\n",
       "      <td>37.498724</td>\n",
       "      <td>127.029764</td>\n",
       "    </tr>\n",
       "    <tr>\n",
       "      <th>6</th>\n",
       "      <td>갓덴스시</td>\n",
       "      <td>Sushi Restaurant</td>\n",
       "      <td>37.498510</td>\n",
       "      <td>127.029238</td>\n",
       "    </tr>\n",
       "    <tr>\n",
       "      <th>7</th>\n",
       "      <td>CUCHARA (쿠차라)</td>\n",
       "      <td>Mexican Restaurant</td>\n",
       "      <td>37.497337</td>\n",
       "      <td>127.026569</td>\n",
       "    </tr>\n",
       "    <tr>\n",
       "      <th>13</th>\n",
       "      <td>emoi (에머이)</td>\n",
       "      <td>Vietnamese Restaurant</td>\n",
       "      <td>37.496563</td>\n",
       "      <td>127.029471</td>\n",
       "    </tr>\n",
       "    <tr>\n",
       "      <th>14</th>\n",
       "      <td>Kiriyama (기리야마)</td>\n",
       "      <td>Japanese Restaurant</td>\n",
       "      <td>37.496997</td>\n",
       "      <td>127.030294</td>\n",
       "    </tr>\n",
       "  </tbody>\n",
       "</table>\n",
       "</div>"
      ],
      "text/plain": [
       "               name             categories        lat         lng\n",
       "5             단풍나무집      Korean Restaurant  37.498724  127.029764\n",
       "6              갓덴스시       Sushi Restaurant  37.498510  127.029238\n",
       "7     CUCHARA (쿠차라)     Mexican Restaurant  37.497337  127.026569\n",
       "13       emoi (에머이)  Vietnamese Restaurant  37.496563  127.029471\n",
       "14  Kiriyama (기리야마)    Japanese Restaurant  37.496997  127.030294"
      ]
     },
     "execution_count": 13,
     "metadata": {},
     "output_type": "execute_result"
    }
   ],
   "source": [
    "# View the Resaurants near Gangnam\n",
    "club_gn=nearby_venues_gn\n",
    "restaurant_gn=club_gn[club_gn['categories'].str.contains(\"Restaurant\")]\n",
    "restaurant_gn.head(5)"
   ]
  },
  {
   "cell_type": "code",
   "execution_count": 14,
   "metadata": {},
   "outputs": [
    {
     "data": {
      "text/html": [
       "<div>\n",
       "<style scoped>\n",
       "    .dataframe tbody tr th:only-of-type {\n",
       "        vertical-align: middle;\n",
       "    }\n",
       "\n",
       "    .dataframe tbody tr th {\n",
       "        vertical-align: top;\n",
       "    }\n",
       "\n",
       "    .dataframe thead th {\n",
       "        text-align: right;\n",
       "    }\n",
       "</style>\n",
       "<table border=\"1\" class=\"dataframe\">\n",
       "  <thead>\n",
       "    <tr style=\"text-align: right;\">\n",
       "      <th></th>\n",
       "      <th>name</th>\n",
       "      <th>categories</th>\n",
       "      <th>lat</th>\n",
       "      <th>lng</th>\n",
       "    </tr>\n",
       "  </thead>\n",
       "  <tbody>\n",
       "    <tr>\n",
       "      <th>5</th>\n",
       "      <td>Chipotle Mexican Grill</td>\n",
       "      <td>Mexican Restaurant</td>\n",
       "      <td>43.776410</td>\n",
       "      <td>-79.258069</td>\n",
       "    </tr>\n",
       "    <tr>\n",
       "      <th>11</th>\n",
       "      <td>Jimmy The Greek</td>\n",
       "      <td>Greek Restaurant</td>\n",
       "      <td>43.775112</td>\n",
       "      <td>-79.257119</td>\n",
       "    </tr>\n",
       "    <tr>\n",
       "      <th>16</th>\n",
       "      <td>Moxie's Classic Grill</td>\n",
       "      <td>American Restaurant</td>\n",
       "      <td>43.776219</td>\n",
       "      <td>-79.256820</td>\n",
       "    </tr>\n",
       "    <tr>\n",
       "      <th>32</th>\n",
       "      <td>Thai Express</td>\n",
       "      <td>Restaurant</td>\n",
       "      <td>43.776692</td>\n",
       "      <td>-79.259162</td>\n",
       "    </tr>\n",
       "  </tbody>\n",
       "</table>\n",
       "</div>"
      ],
      "text/plain": [
       "                      name           categories        lat        lng\n",
       "5   Chipotle Mexican Grill   Mexican Restaurant  43.776410 -79.258069\n",
       "11         Jimmy The Greek     Greek Restaurant  43.775112 -79.257119\n",
       "16   Moxie's Classic Grill  American Restaurant  43.776219 -79.256820\n",
       "32            Thai Express           Restaurant  43.776692 -79.259162"
      ]
     },
     "execution_count": 14,
     "metadata": {},
     "output_type": "execute_result"
    }
   ],
   "source": [
    "# View the Restaurant near Scarbourgh\n",
    "club_sb=nearby_venues_sb\n",
    "g_club_sb=club_sb[club_sb['categories'].str.contains(\"Rest\")]\n",
    "g_club_sb"
   ]
  },
  {
   "cell_type": "code",
   "execution_count": 15,
   "metadata": {},
   "outputs": [
    {
     "data": {
      "text/plain": [
       "Coffee Shop              16\n",
       "Korean Restaurant        11\n",
       "BBQ Joint                 7\n",
       "Japanese Restaurant       5\n",
       "Sushi Restaurant          5\n",
       "Chinese Restaurant        4\n",
       "Sandwich Place            3\n",
       "Seafood Restaurant        3\n",
       "Vietnamese Restaurant     3\n",
       "Breakfast Spot            2\n",
       "Bakery                    2\n",
       "Smoothie Shop             2\n",
       "Noodle House              2\n",
       "Steakhouse                2\n",
       "Café                      2\n",
       "American Restaurant       1\n",
       "Restaurant                1\n",
       "Italian Restaurant        1\n",
       "Bar                       1\n",
       "Indian Restaurant         1\n",
       "Dim Sum Restaurant        1\n",
       "Cocktail Bar              1\n",
       "Pub                       1\n",
       "Wine Bar                  1\n",
       "Salad Place               1\n",
       "Bubble Tea Shop           1\n",
       "Lounge                    1\n",
       "Golf Course               1\n",
       "Used Bookstore            1\n",
       "Toy / Game Store          1\n",
       "IT Services               1\n",
       "Big Box Store             1\n",
       "Gym / Fitness Center      1\n",
       "Electronics Store         1\n",
       "Beer Garden               1\n",
       "Rental Service            1\n",
       "Souvenir Shop             1\n",
       "Tea Room                  1\n",
       "Mexican Restaurant        1\n",
       "Performing Arts Venue     1\n",
       "Food Court                1\n",
       "Gym                       1\n",
       "Rock Club                 1\n",
       "Pizza Place               1\n",
       "Beer Bar                  1\n",
       "Moroccan Restaurant       1\n",
       "Name: categories, dtype: int64"
      ]
     },
     "execution_count": 15,
     "metadata": {},
     "output_type": "execute_result"
    }
   ],
   "source": [
    "# View the Venues near Gangnam\n",
    "nearby_venues_gn['categories'].value_counts()"
   ]
  },
  {
   "cell_type": "code",
   "execution_count": 16,
   "metadata": {},
   "outputs": [
    {
     "data": {
      "text/plain": [
       "Pizza Place             3\n",
       "Coffee Shop             3\n",
       "Italian Restaurant      2\n",
       "Fast Food Restaurant    2\n",
       "Pharmacy                2\n",
       "Sandwich Place          2\n",
       "Mexican Restaurant      2\n",
       "Burger Joint            2\n",
       "Sporting Goods Shop     1\n",
       "Mobile Phone Shop       1\n",
       "Auto Garage             1\n",
       "Donut Shop              1\n",
       "Bank                    1\n",
       "Convenience Store       1\n",
       "Sports Bar              1\n",
       "Deli / Bodega           1\n",
       "Hardware Store          1\n",
       "Bakery                  1\n",
       "Moroccan Restaurant     1\n",
       "Video Store             1\n",
       "Breakfast Spot          1\n",
       "Fried Chicken Joint     1\n",
       "Café                    1\n",
       "Bar                     1\n",
       "ATM                     1\n",
       "Ice Cream Shop          1\n",
       "Taco Place              1\n",
       "Name: categories, dtype: int64"
      ]
     },
     "execution_count": 16,
     "metadata": {},
     "output_type": "execute_result"
    }
   ],
   "source": [
    "# View the Venues near San Pedro\n",
    "nearby_venues_sp['categories'].value_counts()"
   ]
  },
  {
   "cell_type": "code",
   "execution_count": 17,
   "metadata": {},
   "outputs": [
    {
     "data": {
      "text/plain": [
       "Pool    1\n",
       "Name: categories, dtype: int64"
      ]
     },
     "execution_count": 17,
     "metadata": {},
     "output_type": "execute_result"
    }
   ],
   "source": [
    "# View the Venues near Avery Ranch\n",
    "nearby_venues_av['categories'].value_counts()"
   ]
  },
  {
   "cell_type": "code",
   "execution_count": null,
   "metadata": {},
   "outputs": [],
   "source": []
  }
 ],
 "metadata": {
  "kernelspec": {
   "display_name": "Python 3.6",
   "language": "python",
   "name": "python3"
  },
  "language_info": {
   "codemirror_mode": {
    "name": "ipython",
    "version": 3
   },
   "file_extension": ".py",
   "mimetype": "text/x-python",
   "name": "python",
   "nbconvert_exporter": "python",
   "pygments_lexer": "ipython3",
   "version": "3.6.8"
  }
 },
 "nbformat": 4,
 "nbformat_minor": 1
}
